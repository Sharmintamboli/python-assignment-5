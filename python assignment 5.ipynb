{
 "cells": [
  {
   "cell_type": "code",
   "execution_count": 1,
   "id": "37f20311",
   "metadata": {},
   "outputs": [
    {
     "data": {
      "text/plain": [
       "dict"
      ]
     },
     "execution_count": 1,
     "metadata": {},
     "output_type": "execute_result"
    }
   ],
   "source": [
    "#question1\n",
    "\"\"\"What does an empty dictionary&#39;s code look like?\"\"\"\n",
    "d={}\n",
    "type(d)"
   ]
  },
  {
   "cell_type": "code",
   "execution_count": 9,
   "id": "ad6a2916",
   "metadata": {},
   "outputs": [],
   "source": [
    "#question 2\n",
    "\"\"\"\"What is the value of a dictionary value with the key &#39;foo&#39; and the value 42?\"\"\"\n"
   ]
  },
  {
   "cell_type": "code",
   "execution_count": 11,
   "id": "e6586dce",
   "metadata": {},
   "outputs": [],
   "source": [
    "d={\"foo\":42}"
   ]
  },
  {
   "cell_type": "code",
   "execution_count": 12,
   "id": "080b87a1",
   "metadata": {},
   "outputs": [
    {
     "data": {
      "text/plain": [
       "dict_values([42])"
      ]
     },
     "execution_count": 12,
     "metadata": {},
     "output_type": "execute_result"
    }
   ],
   "source": [
    "d.values()"
   ]
  },
  {
   "cell_type": "code",
   "execution_count": null,
   "id": "a7ce527a",
   "metadata": {},
   "outputs": [],
   "source": [
    "#question 3\n",
    "\"\"\"What is the most significant distinction between a dictionary and a list?\"\"\"\n",
    "#dictionary contain key and value pair and lst contail all kind of data\n",
    "#item stored in dictionary is unordered and in list is ordered"
   ]
  },
  {
   "cell_type": "code",
   "execution_count": null,
   "id": "669e87d0",
   "metadata": {},
   "outputs": [],
   "source": [
    "#question 4\n",
    "\"\"\"What happens if you try to access spam[foo;] if spam is {: 100}?\"\"\"\n",
    "#key error error"
   ]
  },
  {
   "cell_type": "code",
   "execution_count": null,
   "id": "bc40301b",
   "metadata": {},
   "outputs": [],
   "source": [
    "#question 5\n",
    "\"\"\"If a dictionary is stored in spam, what is the difference between the expressions cat in spam and cat in spam.keys()?\"\"\"\n",
    "#There is no difference. The in operator checks whether a value exists as a key in the dictionary.\n"
   ]
  },
  {
   "cell_type": "code",
   "execution_count": null,
   "id": "10f265ba",
   "metadata": {},
   "outputs": [],
   "source": [
    "#question 6\n",
    "\"\"\"If a dictionary is stored in spam, what is the difference between the \n",
    "expressions cat in spam and;cat in spam.values()?\"\"\"\n",
    "#'cat' in spam checks whether there is a 'cat' key in the dictionary, while 'cat' in spam.values() \n",
    "#checks whether there is a value 'cat' for one of the keys in spam."
   ]
  },
  {
   "cell_type": "code",
   "execution_count": 28,
   "id": "613d0fef",
   "metadata": {},
   "outputs": [
    {
     "data": {
      "text/plain": [
       "'What is a shortcut for the following code'"
      ]
     },
     "execution_count": 28,
     "metadata": {},
     "output_type": "execute_result"
    }
   ],
   "source": [
    "#question 7\n",
    "\"\"\"What is a shortcut for the following code\"\"\""
   ]
  },
  {
   "cell_type": "code",
   "execution_count": 31,
   "id": "9a6c0310",
   "metadata": {},
   "outputs": [
    {
     "name": "stdout",
     "output_type": "stream",
     "text": [
      "pretty\n"
     ]
    }
   ],
   "source": [
    "#question 8\n",
    "\"\"\"How do you pretty print dictionary values using which module and function?\"\"\"\n",
    "print(\"pretty\")"
   ]
  },
  {
   "cell_type": "code",
   "execution_count": 32,
   "id": "84491534",
   "metadata": {},
   "outputs": [
    {
     "ename": "NameError",
     "evalue": "name 'pprint' is not defined",
     "output_type": "error",
     "traceback": [
      "\u001b[1;31m---------------------------------------------------------------------------\u001b[0m",
      "\u001b[1;31mNameError\u001b[0m                                 Traceback (most recent call last)",
      "\u001b[1;32m~\\AppData\\Local\\Temp/ipykernel_1540/3922009452.py\u001b[0m in \u001b[0;36m<module>\u001b[1;34m\u001b[0m\n\u001b[1;32m----> 1\u001b[1;33m \u001b[0mpprint\u001b[0m\u001b[1;33m.\u001b[0m\u001b[0mpprint\u001b[0m\u001b[1;33m(\u001b[0m\u001b[1;33m)\u001b[0m\u001b[1;33m\u001b[0m\u001b[1;33m\u001b[0m\u001b[0m\n\u001b[0m",
      "\u001b[1;31mNameError\u001b[0m: name 'pprint' is not defined"
     ]
    }
   ],
   "source": []
  },
  {
   "cell_type": "code",
   "execution_count": null,
   "id": "800ac630",
   "metadata": {},
   "outputs": [],
   "source": []
  }
 ],
 "metadata": {
  "kernelspec": {
   "display_name": "Python 3 (ipykernel)",
   "language": "python",
   "name": "python3"
  },
  "language_info": {
   "codemirror_mode": {
    "name": "ipython",
    "version": 3
   },
   "file_extension": ".py",
   "mimetype": "text/x-python",
   "name": "python",
   "nbconvert_exporter": "python",
   "pygments_lexer": "ipython3",
   "version": "3.9.7"
  }
 },
 "nbformat": 4,
 "nbformat_minor": 5
}
